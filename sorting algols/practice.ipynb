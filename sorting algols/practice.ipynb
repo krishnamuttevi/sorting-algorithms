{
 "cells": [
  {
   "cell_type": "markdown",
   "metadata": {},
   "source": [
    "# merge sort"
   ]
  },
  {
   "cell_type": "code",
   "execution_count": 9,
   "metadata": {},
   "outputs": [
    {
     "name": "stdout",
     "output_type": "stream",
     "text": [
      "[-1, 0, 4, 82, 98]\n"
     ]
    }
   ],
   "source": [
    "class Solution:\n",
    "    def merge(self,arr,l,mid,r):\n",
    "        left=l\n",
    "        right=mid+1\n",
    "        temp=[]\n",
    "        while left<=mid and right<=r:\n",
    "            if arr[left] < arr[right]:\n",
    "                temp.append(arr[left])\n",
    "                left+=1     \n",
    "            else:\n",
    "                temp.append(arr[right]) \n",
    "                right+=1\n",
    "        if left<=mid:\n",
    "            temp.extend(arr[left:mid+1])\n",
    "        if right<=r:\n",
    "            temp.extend(arr[right:r+1])\n",
    "        arr[l:r+1]=temp   \n",
    "\n",
    "                 \n",
    "        \n",
    "    def mergesort(self,arr,l,r):\n",
    "        if l>=r:\n",
    "            return\n",
    "        mid=(l+r)//2\n",
    "        self.mergesort(arr,l,mid)\n",
    "        self.mergesort(arr,mid+1 ,r)\n",
    "        self.merge(arr,l,mid,r)\n",
    "\n",
    "        \n",
    "        \n",
    "obj=Solution()\n",
    "arr=[4,82,0,-1,98]\n",
    "obj.mergesort(arr,0,4)\n",
    "print(arr)"
   ]
  },
  {
   "cell_type": "code",
   "execution_count": 11,
   "metadata": {},
   "outputs": [
    {
     "name": "stdout",
     "output_type": "stream",
     "text": [
      "[-1, 0, 4, 82, 98]\n"
     ]
    }
   ],
   "source": [
    "'''def quicksort(arr,l,r):\n",
    "    if l < r :\n",
    "        piv=pivot(arr , l , r )\n",
    "        quicksort(arr , l , piv - 1 )\n",
    "        quicksort(arr , piv +1, r )\n",
    "def pivot(arr,l,r):\n",
    "    piv=arr[l]\n",
    "    i=l+1\n",
    "    j=r\n",
    "    while True:\n",
    "        while i <= r and arr[i]<=piv:\n",
    "            i+=1\n",
    "        while j>=l and arr[j]>piv:\n",
    "            j-=1\n",
    "        if i>j:\n",
    "            break\n",
    "        arr[i],arr[j]=arr[j],arr[i]\n",
    "    arr[l],arr[j]=arr[j],arr[l]\n",
    "    return j\n",
    "arr = [4,82,0,-1,98]\n",
    "quicksort(arr, 0, len(arr) - 1)\n",
    "print(arr)'''\n",
    "    \n",
    "    \n",
    "        "
   ]
  },
  {
   "cell_type": "code",
   "execution_count": 13,
   "metadata": {},
   "outputs": [
    {
     "name": "stdout",
     "output_type": "stream",
     "text": [
      "[-2, -1, 0, 4, 82]\n"
     ]
    }
   ],
   "source": [
    "def quicksort(arr,l,r):\n",
    "    if l < r:\n",
    "        piv=pivot(arr,l,r)\n",
    "        quicksort(arr,l,piv-1)\n",
    "        quicksort(arr,piv+1,r)\n",
    "def pivot(arr,l,r):\n",
    "    pivot=arr[l]\n",
    "    i=l+1\n",
    "    j=r\n",
    "    while True:\n",
    "        while i<=r and arr[i]<=pivot:\n",
    "            i+=1\n",
    "        while j>=l and arr[j]>pivot:\n",
    "            j-=1\n",
    "        if i>j:\n",
    "            break\n",
    "        arr[i],arr[j]=arr[j],arr[i]\n",
    "    arr[l],arr[j]=arr[j],arr[l]\n",
    "    return j\n",
    "arr = [4,82,0,-1,-2]\n",
    "quicksort(arr, 0, len(arr) - 1)\n",
    "print(arr)"
   ]
  },
  {
   "cell_type": "code",
   "execution_count": 3,
   "metadata": {},
   "outputs": [
    {
     "name": "stdout",
     "output_type": "stream",
     "text": [
      "[-1, 0, 2, 4, 82, 98]\n"
     ]
    }
   ],
   "source": [
    "def merge(arr,l,mid,r):\n",
    "    \n",
    "          \n",
    "def mergesort(arr,l,r):\n",
    "\n",
    "arr=[4,82,0,-1,98,2]\n",
    "mergesort(arr,0,5)\n",
    "print(arr)"
   ]
  },
  {
   "cell_type": "markdown",
   "metadata": {},
   "source": [
    "# selection sort"
   ]
  },
  {
   "cell_type": "code",
   "execution_count": 6,
   "metadata": {},
   "outputs": [
    {
     "name": "stdout",
     "output_type": "stream",
     "text": [
      "[12, 32, 85, 145]\n"
     ]
    }
   ],
   "source": [
    "def selectionsort(arr):\n",
    "    n=len(arr)\n",
    "    for i in range(0,n-1):\n",
    "        mini=i\n",
    "        for j in range(i+1,n):\n",
    "            if arr[j]<arr[mini]:\n",
    "                mini=j\n",
    "        arr[i],arr[mini]=arr[mini],arr[i]\n",
    "arr=[12,85,145,32]\n",
    "selectionsort(arr)\n",
    "print(arr)            "
   ]
  },
  {
   "cell_type": "code",
   "execution_count": 9,
   "metadata": {},
   "outputs": [
    {
     "name": "stdout",
     "output_type": "stream",
     "text": [
      "[12, 32, 85, 145]\n"
     ]
    }
   ],
   "source": [
    "def merge(arr,l,mid,r):\n",
    "    temp=[]\n",
    "    left=l\n",
    "    right=mid+1\n",
    "    while left<=mid and right<=r:\n",
    "        if arr[left]<=arr[right]:\n",
    "            temp.append(arr[left])\n",
    "            left+=1\n",
    "        else:\n",
    "            temp.append(arr[right])\n",
    "            right+=1 \n",
    "    if left<=mid:\n",
    "        temp.extend(arr[left:mid+1])\n",
    "    if right<=r:\n",
    "        temp.extend(arr[right:r+1])\n",
    "    arr[l:r+1]=temp\n",
    "    \n",
    "def mergesort(arr,l,r):\n",
    "    if l>=r:\n",
    "        return\n",
    "    mid=(l+r)//2\n",
    "    mergesort(arr,l,mid)\n",
    "    mergesort(arr,mid+1,r)\n",
    "    merge(arr,l,mid,r)\n",
    "arr=[12,85,145,32]\n",
    "mergesort(arr,0,len(arr)-1)\n",
    "print(arr)"
   ]
  },
  {
   "cell_type": "code",
   "execution_count": 12,
   "metadata": {},
   "outputs": [
    {
     "name": "stdout",
     "output_type": "stream",
     "text": [
      "[12, 32, 85, 145]\n"
     ]
    }
   ],
   "source": [
    "def quicksort(arr,l,r):\n",
    "    if l<r:\n",
    "        piv=partition(arr,l,r)\n",
    "        quicksort(arr,l,piv-1)\n",
    "        quicksort(arr,piv+1,r)\n",
    "def partition(arr,l,r):\n",
    "    pivot=arr[l]\n",
    "    left=l+1\n",
    "    right=r\n",
    "    while True:\n",
    "        while left<=r and arr[left]<=pivot:\n",
    "            left+=1\n",
    "        while right>=l and arr[right]>pivot:\n",
    "            right-=1\n",
    "        if left>right:\n",
    "            break\n",
    "        arr[left],arr[right]=arr[right],arr[left]\n",
    "    arr[l],arr[right]=arr[right],arr[l]\n",
    "    return right\n",
    "arr=[12,85,145,32]\n",
    "quicksort(arr,0,len(arr)-1)\n",
    "print(arr)"
   ]
  },
  {
   "cell_type": "code",
   "execution_count": 13,
   "metadata": {},
   "outputs": [
    {
     "name": "stdout",
     "output_type": "stream",
     "text": [
      "[12, 32, 85, 145]\n"
     ]
    }
   ],
   "source": [
    "def selectionsort(arr):\n",
    "    for i in range(0,len(arr)-1):\n",
    "        mini=i\n",
    "        for j in range(i+1,len(arr)):\n",
    "            if arr[j]<arr[mini]:\n",
    "                mini=j\n",
    "        arr[mini],arr[i]=arr[i],arr[mini]\n",
    "arr=[12,85,145,32]\n",
    "selectionsort(arr)\n",
    "print(arr)"
   ]
  }
 ],
 "metadata": {
  "kernelspec": {
   "display_name": "Python 3",
   "language": "python",
   "name": "python3"
  },
  "language_info": {
   "codemirror_mode": {
    "name": "ipython",
    "version": 3
   },
   "file_extension": ".py",
   "mimetype": "text/x-python",
   "name": "python",
   "nbconvert_exporter": "python",
   "pygments_lexer": "ipython3",
   "version": "3.12.7"
  }
 },
 "nbformat": 4,
 "nbformat_minor": 2
}
